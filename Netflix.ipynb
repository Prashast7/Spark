{
  "nbformat": 4,
  "nbformat_minor": 0,
  "metadata": {
    "colab": {
      "provenance": [],
      "authorship_tag": "ABX9TyNgNy6a2UV3GM9cM6H4uRa8",
      "include_colab_link": true
    },
    "kernelspec": {
      "name": "python3",
      "display_name": "Python 3"
    },
    "language_info": {
      "name": "python"
    }
  },
  "cells": [
    {
      "cell_type": "markdown",
      "metadata": {
        "id": "view-in-github",
        "colab_type": "text"
      },
      "source": [
        "<a href=\"https://colab.research.google.com/github/Prashast7/Spark/blob/main/Netflix.ipynb\" target=\"_parent\"><img src=\"https://colab.research.google.com/assets/colab-badge.svg\" alt=\"Open In Colab\"/></a>"
      ]
    },
    {
      "cell_type": "code",
      "execution_count": null,
      "metadata": {
        "id": "BAs4t4Y9oVa_"
      },
      "outputs": [],
      "source": []
    },
    {
      "cell_type": "markdown",
      "source": [
        "# Spark_Series\n"
      ],
      "metadata": {
        "id": "pze1mIxpTcxO"
      }
    },
    {
      "cell_type": "code",
      "metadata": {
        "colab": {
          "base_uri": "https://localhost:8080/"
        },
        "id": "c7df318c",
        "outputId": "bc9362c7-8b99-44d5-c5d6-f3bcd27ad57d"
      },
      "source": [
        "!pip install pyspark"
      ],
      "execution_count": 1,
      "outputs": [
        {
          "output_type": "stream",
          "name": "stdout",
          "text": [
            "Requirement already satisfied: pyspark in /usr/local/lib/python3.11/dist-packages (3.5.1)\n",
            "Requirement already satisfied: py4j==0.10.9.7 in /usr/local/lib/python3.11/dist-packages (from pyspark) (0.10.9.7)\n"
          ]
        }
      ]
    },
    {
      "cell_type": "code",
      "metadata": {
        "colab": {
          "base_uri": "https://localhost:8080/"
        },
        "id": "8fa63c15",
        "outputId": "ab1c4462-c420-48a8-a069-dda8b8eb59a0"
      },
      "source": [
        "from pyspark.sql import SparkSession\n",
        "\n",
        "spark = SparkSession.builder.appName(\"PySparkPractice\").getOrCreate()\n",
        "\n",
        "print(\"SparkSession created successfully!\")"
      ],
      "execution_count": 4,
      "outputs": [
        {
          "output_type": "stream",
          "name": "stdout",
          "text": [
            "SparkSession created successfully!\n"
          ]
        }
      ]
    },
    {
      "cell_type": "code",
      "metadata": {
        "colab": {
          "base_uri": "https://localhost:8080/"
        },
        "id": "fdff9b9b",
        "outputId": "f41edfbe-6a2c-45d6-8218-1567012ef6b6"
      },
      "source": [
        "# Create a sample DataFrame\n",
        "data = [(\"Alice\", 1), (\"Bob\", 2), (\"Charlie\", 3)]\n",
        "columns = [\"Name\", \"ID\"]\n",
        "df = spark.createDataFrame(data, columns)\n",
        "\n",
        "# Show the DataFrame\n",
        "df.show()"
      ],
      "execution_count": 3,
      "outputs": [
        {
          "output_type": "stream",
          "name": "stdout",
          "text": [
            "+-------+---+\n",
            "|   Name| ID|\n",
            "+-------+---+\n",
            "|  Alice|  1|\n",
            "|    Bob|  2|\n",
            "|Charlie|  3|\n",
            "+-------+---+\n",
            "\n"
          ]
        }
      ]
    },
    {
      "cell_type": "code",
      "source": [
        "netflix_df = spark.read.csv(\"netflix_titles.csv\", header = True, inferSchema = False)"
      ],
      "metadata": {
        "id": "k9PvMtfDpCar"
      },
      "execution_count": 5,
      "outputs": []
    },
    {
      "cell_type": "code",
      "source": [
        "netflix_df.printSchema()\n",
        "netflix_df.show(2)\n"
      ],
      "metadata": {
        "colab": {
          "base_uri": "https://localhost:8080/"
        },
        "id": "zMO0KyMjqqvH",
        "outputId": "9c5f49c2-e739-437c-9fd8-00d41c9542fa"
      },
      "execution_count": 6,
      "outputs": [
        {
          "output_type": "stream",
          "name": "stdout",
          "text": [
            "root\n",
            " |-- show_id: string (nullable = true)\n",
            " |-- type: string (nullable = true)\n",
            " |-- title: string (nullable = true)\n",
            " |-- director: string (nullable = true)\n",
            " |-- cast: string (nullable = true)\n",
            " |-- country: string (nullable = true)\n",
            " |-- date_added: string (nullable = true)\n",
            " |-- release_year: string (nullable = true)\n",
            " |-- rating: string (nullable = true)\n",
            " |-- duration: string (nullable = true)\n",
            " |-- listed_in: string (nullable = true)\n",
            " |-- description: string (nullable = true)\n",
            "\n",
            "+-------+-------+--------------------+---------------+--------------------+-------------+------------------+------------+------+---------+--------------------+--------------------+\n",
            "|show_id|   type|               title|       director|                cast|      country|        date_added|release_year|rating| duration|           listed_in|         description|\n",
            "+-------+-------+--------------------+---------------+--------------------+-------------+------------------+------------+------+---------+--------------------+--------------------+\n",
            "|     s1|  Movie|Dick Johnson Is Dead|Kirsten Johnson|                NULL|United States|September 25, 2021|        2020| PG-13|   90 min|       Documentaries|As her father nea...|\n",
            "|     s2|TV Show|       Blood & Water|           NULL|Ama Qamata, Khosi...| South Africa|September 24, 2021|        2021| TV-MA|2 Seasons|International TV ...|After crossing pa...|\n",
            "+-------+-------+--------------------+---------------+--------------------+-------------+------------------+------------+------+---------+--------------------+--------------------+\n",
            "only showing top 2 rows\n",
            "\n"
          ]
        }
      ]
    },
    {
      "cell_type": "code",
      "source": [
        "schema = \"\"\"show_id string,\n",
        "type string,\n",
        "title string,\n",
        " director string,\n",
        " cast string,\n",
        " country string,\n",
        " date_added string,\n",
        " release_year integer,\n",
        " rating string,\n",
        " duration string,\n",
        " listed_in string,\n",
        "description string \"\"\""
      ],
      "metadata": {
        "id": "0JZxnYY4qth_"
      },
      "execution_count": 7,
      "outputs": []
    },
    {
      "cell_type": "code",
      "source": [
        "netflix_df = spark.read.csv(\"netflix_titles.csv\", header = True, schema = schema)"
      ],
      "metadata": {
        "id": "Wr4K-RVhu8YN"
      },
      "execution_count": 12,
      "outputs": []
    },
    {
      "cell_type": "code",
      "source": [
        "from pyspark.sql.functions import *"
      ],
      "metadata": {
        "id": "uUmfXIbFu_Gl"
      },
      "execution_count": 9,
      "outputs": []
    },
    {
      "cell_type": "code",
      "source": [
        "null_counts = {column: netflix_df.filter(col(column).isNull()) for column in netflix_df.columns}"
      ],
      "metadata": {
        "id": "8HzOvEGr0DN4"
      },
      "execution_count": 10,
      "outputs": []
    },
    {
      "cell_type": "code",
      "source": [
        "print(null_counts)"
      ],
      "metadata": {
        "colab": {
          "base_uri": "https://localhost:8080/"
        },
        "id": "XAOKAqjh3qH8",
        "outputId": "cebf1b69-9c1c-4429-894f-9bfe61e89a54"
      },
      "execution_count": 22,
      "outputs": [
        {
          "output_type": "stream",
          "name": "stdout",
          "text": [
            "{'show_id': DataFrame[show_id: string, type: string, title: string, director: string, cast: string, country: string, date_added: string, release_year: int, rating: string, duration: string, listed_in: string, description: string], 'type': DataFrame[show_id: string, type: string, title: string, director: string, cast: string, country: string, date_added: string, release_year: int, rating: string, duration: string, listed_in: string, description: string], 'title': DataFrame[show_id: string, type: string, title: string, director: string, cast: string, country: string, date_added: string, release_year: int, rating: string, duration: string, listed_in: string, description: string], 'director': DataFrame[show_id: string, type: string, title: string, director: string, cast: string, country: string, date_added: string, release_year: int, rating: string, duration: string, listed_in: string, description: string], 'cast': DataFrame[show_id: string, type: string, title: string, director: string, cast: string, country: string, date_added: string, release_year: int, rating: string, duration: string, listed_in: string, description: string], 'country': DataFrame[show_id: string, type: string, title: string, director: string, cast: string, country: string, date_added: string, release_year: int, rating: string, duration: string, listed_in: string, description: string], 'date_added': DataFrame[show_id: string, type: string, title: string, director: string, cast: string, country: string, date_added: string, release_year: int, rating: string, duration: string, listed_in: string, description: string], 'release_year': DataFrame[show_id: string, type: string, title: string, director: string, cast: string, country: string, date_added: string, release_year: int, rating: string, duration: string, listed_in: string, description: string], 'rating': DataFrame[show_id: string, type: string, title: string, director: string, cast: string, country: string, date_added: string, release_year: int, rating: string, duration: string, listed_in: string, description: string], 'duration': DataFrame[show_id: string, type: string, title: string, director: string, cast: string, country: string, date_added: string, release_year: int, rating: string, duration: string, listed_in: string, description: string], 'listed_in': DataFrame[show_id: string, type: string, title: string, director: string, cast: string, country: string, date_added: string, release_year: int, rating: string, duration: string, listed_in: string, description: string], 'description': DataFrame[show_id: string, type: string, title: string, director: string, cast: string, country: string, date_added: string, release_year: int, rating: string, duration: string, listed_in: string, description: string]}\n"
          ]
        }
      ]
    },
    {
      "cell_type": "code",
      "source": [
        "netflix_df.show(4)"
      ],
      "metadata": {
        "colab": {
          "base_uri": "https://localhost:8080/"
        },
        "id": "Qh4M5RCU5q9F",
        "outputId": "04f23f72-7a72-49f4-c230-cecdc6545005"
      },
      "execution_count": 11,
      "outputs": [
        {
          "output_type": "stream",
          "name": "stdout",
          "text": [
            "+-------+-------+--------------------+---------------+--------------------+-------------+------------------+------------+------+---------+--------------------+--------------------+\n",
            "|show_id|   type|               title|       director|                cast|      country|        date_added|release_year|rating| duration|           listed_in|         description|\n",
            "+-------+-------+--------------------+---------------+--------------------+-------------+------------------+------------+------+---------+--------------------+--------------------+\n",
            "|     s1|  Movie|Dick Johnson Is Dead|Kirsten Johnson|                NULL|United States|September 25, 2021|        2020| PG-13|   90 min|       Documentaries|As her father nea...|\n",
            "|     s2|TV Show|       Blood & Water|           NULL|Ama Qamata, Khosi...| South Africa|September 24, 2021|        2021| TV-MA|2 Seasons|International TV ...|After crossing pa...|\n",
            "|     s3|TV Show|           Ganglands|Julien Leclercq|Sami Bouajila, Tr...|         NULL|September 24, 2021|        2021| TV-MA| 1 Season|Crime TV Shows, I...|To protect his fa...|\n",
            "|     s4|TV Show|Jailbirds New Orl...|           NULL|                NULL|         NULL|September 24, 2021|        2021| TV-MA| 1 Season|Docuseries, Reali...|Feuds, flirtation...|\n",
            "+-------+-------+--------------------+---------------+--------------------+-------------+------------------+------------+------+---------+--------------------+--------------------+\n",
            "only showing top 4 rows\n",
            "\n"
          ]
        }
      ]
    },
    {
      "cell_type": "code",
      "source": [
        "netflix_df = netflix_df.withColumn(\"date_added_clean\", to_date(netflix_df[\"date_added\"], \"MMMM d, yyyy\"))"
      ],
      "metadata": {
        "id": "Sy-f8G1T5tWd"
      },
      "execution_count": 13,
      "outputs": []
    },
    {
      "cell_type": "code",
      "source": [
        "netflix_df.show(4)"
      ],
      "metadata": {
        "colab": {
          "base_uri": "https://localhost:8080/"
        },
        "id": "Hj7m6WL2_6de",
        "outputId": "6af05c8e-33ed-4453-d9a7-162b647d1750"
      },
      "execution_count": 14,
      "outputs": [
        {
          "output_type": "stream",
          "name": "stdout",
          "text": [
            "+-------+-------+--------------------+---------------+--------------------+-------------+------------------+------------+------+---------+--------------------+--------------------+----------------+\n",
            "|show_id|   type|               title|       director|                cast|      country|        date_added|release_year|rating| duration|           listed_in|         description|date_added_clean|\n",
            "+-------+-------+--------------------+---------------+--------------------+-------------+------------------+------------+------+---------+--------------------+--------------------+----------------+\n",
            "|     s1|  Movie|Dick Johnson Is Dead|Kirsten Johnson|                NULL|United States|September 25, 2021|        2020| PG-13|   90 min|       Documentaries|As her father nea...|      2021-09-25|\n",
            "|     s2|TV Show|       Blood & Water|           NULL|Ama Qamata, Khosi...| South Africa|September 24, 2021|        2021| TV-MA|2 Seasons|International TV ...|After crossing pa...|      2021-09-24|\n",
            "|     s3|TV Show|           Ganglands|Julien Leclercq|Sami Bouajila, Tr...|         NULL|September 24, 2021|        2021| TV-MA| 1 Season|Crime TV Shows, I...|To protect his fa...|      2021-09-24|\n",
            "|     s4|TV Show|Jailbirds New Orl...|           NULL|                NULL|         NULL|September 24, 2021|        2021| TV-MA| 1 Season|Docuseries, Reali...|Feuds, flirtation...|      2021-09-24|\n",
            "+-------+-------+--------------------+---------------+--------------------+-------------+------------------+------------+------+---------+--------------------+--------------------+----------------+\n",
            "only showing top 4 rows\n",
            "\n"
          ]
        }
      ]
    },
    {
      "cell_type": "code",
      "source": [
        "netflix_df = netflix_df.withColumn(\"year_added\", year(\"date_added_clean\"))"
      ],
      "metadata": {
        "id": "USNjU4d1__1g"
      },
      "execution_count": 15,
      "outputs": []
    },
    {
      "cell_type": "code",
      "source": [
        "netflix_df.groupBy(\"year_added\").agg(count(\"show_id\")).orderBy(desc(\"count(show_id)\")).show()"
      ],
      "metadata": {
        "colab": {
          "base_uri": "https://localhost:8080/"
        },
        "id": "J2TRr3TeBxQj",
        "outputId": "aca970e6-9a61-4a0d-dcce-5a69ff42b43b"
      },
      "execution_count": 17,
      "outputs": [
        {
          "output_type": "stream",
          "name": "stdout",
          "text": [
            "+----------+--------------+\n",
            "|year_added|count(show_id)|\n",
            "+----------+--------------+\n",
            "|      2019|          1997|\n",
            "|      2020|          1872|\n",
            "|      2018|          1623|\n",
            "|      2021|          1491|\n",
            "|      2017|          1162|\n",
            "|      2016|           418|\n",
            "|      NULL|           120|\n",
            "|      2015|            72|\n",
            "|      2014|            23|\n",
            "|      2011|            13|\n",
            "|      2013|            10|\n",
            "|      2012|             3|\n",
            "|      2009|             2|\n",
            "|      2008|             2|\n",
            "|      2010|             1|\n",
            "+----------+--------------+\n",
            "\n"
          ]
        }
      ]
    },
    {
      "cell_type": "code",
      "source": [
        "netflix_df = netflix_df.withColumn(\"month_added\", month(\"date_added_clean\"))"
      ],
      "metadata": {
        "id": "gHzG3kF7Uzow"
      },
      "execution_count": 18,
      "outputs": []
    },
    {
      "cell_type": "code",
      "source": [
        "netflix_df.groupBy(\"month_added\").agg(count(\"title\")).show()"
      ],
      "metadata": {
        "colab": {
          "base_uri": "https://localhost:8080/"
        },
        "id": "PF4WleD0YLuq",
        "outputId": "8ad134e0-a61a-4ab0-f54d-d3b3cb951d0a"
      },
      "execution_count": 19,
      "outputs": [
        {
          "output_type": "stream",
          "name": "stdout",
          "text": [
            "+-----------+------------+\n",
            "|month_added|count(title)|\n",
            "+-----------+------------+\n",
            "|         12|         796|\n",
            "|       NULL|         118|\n",
            "|          1|         722|\n",
            "|          6|         723|\n",
            "|          3|         732|\n",
            "|          5|         625|\n",
            "|          9|         763|\n",
            "|          4|         757|\n",
            "|          8|         746|\n",
            "|          7|         818|\n",
            "|         10|         754|\n",
            "|         11|         696|\n",
            "|          2|         557|\n",
            "+-----------+------------+\n",
            "\n"
          ]
        }
      ]
    },
    {
      "cell_type": "code",
      "source": [
        "netflix_df.groupBy(\"country\").agg(count(when(col(\"type\") == \"Movie\", True)).alias(\"movie_count\")).orderBy(desc(\"movie_count\")).show(5)"
      ],
      "metadata": {
        "colab": {
          "base_uri": "https://localhost:8080/"
        },
        "id": "h2esFm8WYhcT",
        "outputId": "0a6564b7-a68a-4afd-8a04-f1d86a58520b"
      },
      "execution_count": 18,
      "outputs": [
        {
          "output_type": "stream",
          "name": "stdout",
          "text": [
            "+--------------+-----------+\n",
            "|       country|movie_count|\n",
            "+--------------+-----------+\n",
            "| United States|       2047|\n",
            "|         India|        893|\n",
            "|          NULL|        440|\n",
            "|United Kingdom|        206|\n",
            "|        Canada|        122|\n",
            "+--------------+-----------+\n",
            "only showing top 5 rows\n",
            "\n"
          ]
        }
      ]
    },
    {
      "cell_type": "code",
      "source": [
        "netflix_df.groupBy(\"country\").agg(count(when(col(\"type\")==\"TV Show\", True)).alias(\"show_count\")).orderBy(desc(\"show_count\")).show(5)"
      ],
      "metadata": {
        "colab": {
          "base_uri": "https://localhost:8080/"
        },
        "id": "v5JdnyFQBN2t",
        "outputId": "0592a0e7-3b86-4a19-b4a1-e69ac63e139c"
      },
      "execution_count": 22,
      "outputs": [
        {
          "output_type": "stream",
          "name": "stdout",
          "text": [
            "+--------------+----------+\n",
            "|       country|show_count|\n",
            "+--------------+----------+\n",
            "| United States|       758|\n",
            "|          NULL|       391|\n",
            "|United Kingdom|       213|\n",
            "|         Japan|       169|\n",
            "|   South Korea|       158|\n",
            "+--------------+----------+\n",
            "only showing top 5 rows\n",
            "\n"
          ]
        }
      ]
    },
    {
      "cell_type": "code",
      "source": [
        "netflix_df.groupBy(\"director\").agg(count(\"show_id\").alias(\"show_count\")).filter(\"show_count > 10\").orderBy(desc(\"show_count\")).show()"
      ],
      "metadata": {
        "colab": {
          "base_uri": "https://localhost:8080/"
        },
        "id": "1WXNPBYpESE8",
        "outputId": "c7c0c268-c361-4a77-c98a-20aaf577d9fd"
      },
      "execution_count": 29,
      "outputs": [
        {
          "output_type": "stream",
          "name": "stdout",
          "text": [
            "+--------------------+----------+\n",
            "|            director|show_count|\n",
            "+--------------------+----------+\n",
            "|                NULL|      2636|\n",
            "|       Rajiv Chilaka|        19|\n",
            "|Raúl Campos, Jan ...|        18|\n",
            "|        Marcus Raboy|        16|\n",
            "|         Suhas Kadav|        16|\n",
            "|           Jay Karas|        14|\n",
            "| Cathy Garcia-Molina|        13|\n",
            "|     Youssef Chahine|        12|\n",
            "|     Martin Scorsese|        12|\n",
            "|         Jay Chapman|        12|\n",
            "|    Steven Spielberg|        11|\n",
            "+--------------------+----------+\n",
            "\n"
          ]
        }
      ]
    },
    {
      "cell_type": "code",
      "source": [
        "netflix_df.createOrReplaceTempView(\"netflix\")\n",
        "spark.sql(\"\"\"\n",
        "select director,count(distinct show_id) as count_show\n",
        "from netflix\n",
        "group by director\n",
        "having count_show > 10\n",
        "order by count_show desc\"\"\").show()"
      ],
      "metadata": {
        "colab": {
          "base_uri": "https://localhost:8080/"
        },
        "id": "NG-mGtpgQII1",
        "outputId": "d957e036-ed04-46a7-cade-c80649377e78"
      },
      "execution_count": 27,
      "outputs": [
        {
          "output_type": "stream",
          "name": "stdout",
          "text": [
            "+--------------------+----------+\n",
            "|            director|count_show|\n",
            "+--------------------+----------+\n",
            "|                NULL|      2636|\n",
            "|       Rajiv Chilaka|        19|\n",
            "|Raúl Campos, Jan ...|        18|\n",
            "|        Marcus Raboy|        16|\n",
            "|         Suhas Kadav|        16|\n",
            "|           Jay Karas|        14|\n",
            "| Cathy Garcia-Molina|        13|\n",
            "|     Youssef Chahine|        12|\n",
            "|     Martin Scorsese|        12|\n",
            "|         Jay Chapman|        12|\n",
            "|    Steven Spielberg|        11|\n",
            "+--------------------+----------+\n",
            "\n"
          ]
        }
      ]
    },
    {
      "cell_type": "code",
      "source": [
        "netflix_df.show(5)"
      ],
      "metadata": {
        "colab": {
          "base_uri": "https://localhost:8080/"
        },
        "id": "6iKOe8aoRG6W",
        "outputId": "7202725c-4105-49a5-92ca-46c78d3f82cf"
      },
      "execution_count": 36,
      "outputs": [
        {
          "output_type": "stream",
          "name": "stdout",
          "text": [
            "+-------+-------+--------------------+---------------+--------------------+-------------+------------------+------------+------+---------+--------------------+--------------------+----------------+\n",
            "|show_id|   type|               title|       director|                cast|      country|        date_added|release_year|rating| duration|           listed_in|         description|date_added_clean|\n",
            "+-------+-------+--------------------+---------------+--------------------+-------------+------------------+------------+------+---------+--------------------+--------------------+----------------+\n",
            "|     s1|  Movie|Dick Johnson Is Dead|Kirsten Johnson|                NULL|United States|September 25, 2021|        2020| PG-13|   90 min|       Documentaries|As her father nea...|      2021-09-25|\n",
            "|     s2|TV Show|       Blood & Water|           NULL|Ama Qamata, Khosi...| South Africa|September 24, 2021|        2021| TV-MA|2 Seasons|International TV ...|After crossing pa...|      2021-09-24|\n",
            "|     s3|TV Show|           Ganglands|Julien Leclercq|Sami Bouajila, Tr...|         NULL|September 24, 2021|        2021| TV-MA| 1 Season|Crime TV Shows, I...|To protect his fa...|      2021-09-24|\n",
            "|     s4|TV Show|Jailbirds New Orl...|           NULL|                NULL|         NULL|September 24, 2021|        2021| TV-MA| 1 Season|Docuseries, Reali...|Feuds, flirtation...|      2021-09-24|\n",
            "|     s5|TV Show|        Kota Factory|           NULL|Mayur More, Jiten...|        India|September 24, 2021|        2021| TV-MA|2 Seasons|International TV ...|In a city of coac...|      2021-09-24|\n",
            "+-------+-------+--------------------+---------------+--------------------+-------------+------------------+------------+------+---------+--------------------+--------------------+----------------+\n",
            "only showing top 5 rows\n",
            "\n"
          ]
        }
      ]
    },
    {
      "cell_type": "markdown",
      "source": [
        "# Netlfix Analysis"
      ],
      "metadata": {
        "id": "nYS0ZmGNTs4f"
      }
    },
    {
      "cell_type": "code",
      "source": [
        "# prompt: Which genre appears most frequently on Netflix (based on the listed_in column)?\n",
        "netflix_df.select(explode(split(col(\"listed_in\"), \", \")).alias(\"genre\")).groupBy(\"genre\").count().orderBy(desc(\"count\")).show()\n"
      ],
      "metadata": {
        "colab": {
          "base_uri": "https://localhost:8080/"
        },
        "id": "bvqsp2KYTyKg",
        "outputId": "2a6d6df5-8a13-4738-de19-957ec7628303"
      },
      "execution_count": 35,
      "outputs": [
        {
          "output_type": "stream",
          "name": "stdout",
          "text": [
            "+--------------------+-----+\n",
            "|               genre|count|\n",
            "+--------------------+-----+\n",
            "|International Movies| 2748|\n",
            "|              Dramas| 2419|\n",
            "|            Comedies| 1670|\n",
            "|International TV ...| 1350|\n",
            "|       Documentaries|  866|\n",
            "|  Action & Adventure|  857|\n",
            "|           TV Dramas|  762|\n",
            "|  Independent Movies|  751|\n",
            "|Children & Family...|  641|\n",
            "|     Romantic Movies|  616|\n",
            "|         TV Comedies|  580|\n",
            "|           Thrillers|  573|\n",
            "|      Crime TV Shows|  469|\n",
            "|            Kids' TV|  451|\n",
            "|          Docuseries|  395|\n",
            "|    Music & Musicals|  373|\n",
            "|   Romantic TV Shows|  370|\n",
            "|       Horror Movies|  357|\n",
            "|     Stand-Up Comedy|  343|\n",
            "|          Reality TV|  254|\n",
            "+--------------------+-----+\n",
            "only showing top 20 rows\n",
            "\n"
          ]
        }
      ]
    },
    {
      "cell_type": "code",
      "source": [
        "netflix_df.show(5)"
      ],
      "metadata": {
        "colab": {
          "base_uri": "https://localhost:8080/"
        },
        "id": "G1afPERtgyd5",
        "outputId": "9c501b25-dbc9-4509-fcfc-9faccd3e3475"
      },
      "execution_count": 40,
      "outputs": [
        {
          "output_type": "stream",
          "name": "stdout",
          "text": [
            "+-------+-------+--------------------+---------------+--------------------+-------------+------------------+------------+------+---------+--------------------+--------------------+----------------+\n",
            "|show_id|   type|               title|       director|                cast|      country|        date_added|release_year|rating| duration|           listed_in|         description|date_added_clean|\n",
            "+-------+-------+--------------------+---------------+--------------------+-------------+------------------+------------+------+---------+--------------------+--------------------+----------------+\n",
            "|     s1|  Movie|Dick Johnson Is Dead|Kirsten Johnson|                NULL|United States|September 25, 2021|        2020| PG-13|   90 min|       Documentaries|As her father nea...|      2021-09-25|\n",
            "|     s2|TV Show|       Blood & Water|           NULL|Ama Qamata, Khosi...| South Africa|September 24, 2021|        2021| TV-MA|2 Seasons|International TV ...|After crossing pa...|      2021-09-24|\n",
            "|     s3|TV Show|           Ganglands|Julien Leclercq|Sami Bouajila, Tr...|         NULL|September 24, 2021|        2021| TV-MA| 1 Season|Crime TV Shows, I...|To protect his fa...|      2021-09-24|\n",
            "|     s4|TV Show|Jailbirds New Orl...|           NULL|                NULL|         NULL|September 24, 2021|        2021| TV-MA| 1 Season|Docuseries, Reali...|Feuds, flirtation...|      2021-09-24|\n",
            "|     s5|TV Show|        Kota Factory|           NULL|Mayur More, Jiten...|        India|September 24, 2021|        2021| TV-MA|2 Seasons|International TV ...|In a city of coac...|      2021-09-24|\n",
            "+-------+-------+--------------------+---------------+--------------------+-------------+------------------+------------+------+---------+--------------------+--------------------+----------------+\n",
            "only showing top 5 rows\n",
            "\n"
          ]
        }
      ]
    },
    {
      "cell_type": "code",
      "source": [
        "netflix_df.select(explode(split(col(\"cast\"), \", \")).alias(\"actor\")).groupBy(\"actor\").count().orderBy(desc(\"count\")).show()"
      ],
      "metadata": {
        "colab": {
          "base_uri": "https://localhost:8080/"
        },
        "id": "odT3JjVIhbeu",
        "outputId": "afeeca5a-1f58-4313-864a-30bc54a2ee56"
      },
      "execution_count": 43,
      "outputs": [
        {
          "output_type": "stream",
          "name": "stdout",
          "text": [
            "+-----------------+-----+\n",
            "|            actor|count|\n",
            "+-----------------+-----+\n",
            "|      Anupam Kher|   43|\n",
            "|   Shah Rukh Khan|   35|\n",
            "|    Julie Tejwani|   33|\n",
            "| Takahiro Sakurai|   32|\n",
            "| Naseeruddin Shah|   32|\n",
            "|     Rupa Bhimani|   31|\n",
            "|     Akshay Kumar|   30|\n",
            "|          Om Puri|   30|\n",
            "|        Yuki Kaji|   29|\n",
            "| Amitabh Bachchan|   28|\n",
            "|     Paresh Rawal|   28|\n",
            "|      Boman Irani|   27|\n",
            "|     Vincent Tong|   26|\n",
            "|      Rajesh Kava|   26|\n",
            "|   Kareena Kapoor|   25|\n",
            "|    Andrea Libman|   25|\n",
            "|Samuel L. Jackson|   24|\n",
            "|      John Cleese|   24|\n",
            "|      Tara Strong|   23|\n",
            "|  Fred Tatasciore|   23|\n",
            "+-----------------+-----+\n",
            "only showing top 20 rows\n",
            "\n"
          ]
        }
      ]
    },
    {
      "cell_type": "code",
      "source": [
        "netflix_df.select(\"title\",\"country\",\"date_added_clean\").orderBy(desc(\"date_added_clean\")).show(3)"
      ],
      "metadata": {
        "colab": {
          "base_uri": "https://localhost:8080/"
        },
        "id": "b582xaALjGjD",
        "outputId": "a3bcaefe-f1ab-4426-afb8-76f10a8a631a"
      },
      "execution_count": 47,
      "outputs": [
        {
          "output_type": "stream",
          "name": "stdout",
          "text": [
            "+--------------------+-------------+----------------+\n",
            "|               title|      country|date_added_clean|\n",
            "+--------------------+-------------+----------------+\n",
            "|Dick Johnson Is Dead|United States|      2021-09-25|\n",
            "|       Blood & Water| South Africa|      2021-09-24|\n",
            "|           Ganglands|         NULL|      2021-09-24|\n",
            "+--------------------+-------------+----------------+\n",
            "only showing top 3 rows\n",
            "\n"
          ]
        }
      ]
    },
    {
      "cell_type": "code",
      "source": [],
      "metadata": {
        "id": "bW2JvptpktNi"
      },
      "execution_count": null,
      "outputs": []
    }
  ]
}